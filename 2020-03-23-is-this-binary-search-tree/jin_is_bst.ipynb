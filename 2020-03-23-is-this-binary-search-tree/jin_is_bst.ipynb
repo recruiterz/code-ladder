{
 "cells": [
  {
   "cell_type": "code",
   "execution_count": 11,
   "metadata": {},
   "outputs": [],
   "source": [
    "def check_binary_search_tree_(root):\n",
    "    return transverse_bst(root, 0, 10000)\n",
    "def transverse_bst(root, cur_min, cur_max):\n",
    "    if root is None:\n",
    "        return True\n",
    "    if root.data <= cur_min or root.data >= cur_max:\n",
    "        return False\n",
    "    return transverse_bst(root.left, cur_min, root.data) and transverse_bst(root.right, root.data, cur_max)"
   ]
  },
  {
   "cell_type": "code",
   "execution_count": 12,
   "metadata": {},
   "outputs": [
    {
     "data": {
      "text/plain": [
       "13"
      ]
     },
     "execution_count": 12,
     "metadata": {},
     "output_type": "execute_result"
    }
   ],
   "source": [
    "maxSubsetSum(test)"
   ]
  },
  {
   "cell_type": "code",
   "execution_count": null,
   "metadata": {},
   "outputs": [],
   "source": []
  }
 ],
 "metadata": {
  "kernelspec": {
   "display_name": "Python 3",
   "language": "python",
   "name": "python3"
  },
  "language_info": {
   "codemirror_mode": {
    "name": "ipython",
    "version": 3
   },
   "file_extension": ".py",
   "mimetype": "text/x-python",
   "name": "python",
   "nbconvert_exporter": "python",
   "pygments_lexer": "ipython3",
   "version": "3.7.6"
  }
 },
 "nbformat": 4,
 "nbformat_minor": 4
}
