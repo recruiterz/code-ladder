{
 "cells": [
  {
   "cell_type": "code",
   "execution_count": 1,
   "metadata": {},
   "outputs": [],
   "source": [
    "test = [3, 7, 4, 6, 5]"
   ]
  },
  {
   "cell_type": "code",
   "execution_count": 11,
   "metadata": {},
   "outputs": [],
   "source": [
    "def maxSubsetSum(arr):\n",
    "\n",
    "    d_0 = max(arr[0], 0)\n",
    "    d_1 = max(arr[0], arr[1], 0)\n",
    "\n",
    "    if len(arr) == 1:\n",
    "        return d_0\n",
    "    if len(arr) == 2:\n",
    "        return d_1\n",
    "\n",
    "    d = [d_0, d_1]\n",
    "    \n",
    "    for i in range(2, len(arr)):\n",
    "        d.append(max(d[i-1], d[i-2], d[i-2]+arr[i]))\n",
    "\n",
    "    return d[-1]"
   ]
  },
  {
   "cell_type": "code",
   "execution_count": 12,
   "metadata": {},
   "outputs": [
    {
     "data": {
      "text/plain": [
       "13"
      ]
     },
     "execution_count": 12,
     "metadata": {},
     "output_type": "execute_result"
    }
   ],
   "source": [
    "maxSubsetSum(test)"
   ]
  },
  {
   "cell_type": "code",
   "execution_count": null,
   "metadata": {},
   "outputs": [],
   "source": []
  }
 ],
 "metadata": {
  "kernelspec": {
   "display_name": "Python 3",
   "language": "python",
   "name": "python3"
  },
  "language_info": {
   "codemirror_mode": {
    "name": "ipython",
    "version": 3
   },
   "file_extension": ".py",
   "mimetype": "text/x-python",
   "name": "python",
   "nbconvert_exporter": "python",
   "pygments_lexer": "ipython3",
   "version": "3.7.6"
  }
 },
 "nbformat": 4,
 "nbformat_minor": 4
}
