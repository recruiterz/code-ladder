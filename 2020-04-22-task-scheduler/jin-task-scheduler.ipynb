{
 "cells": [
  {
   "cell_type": "code",
   "execution_count": 53,
   "metadata": {},
   "outputs": [],
   "source": [
    "class Solution:\n",
    "    def leastInterval(self, tasks, n):\n",
    "        cooldowns = {}\n",
    "        possible_tasks = set(tasks)\n",
    "        count = 0\n",
    "        while True:\n",
    "            if len(set(tasks)) == 1 and len(tasks) > 1:\n",
    "                try:\n",
    "                    print(cooldowns[tasks[0]])\n",
    "                    count += len(tasks) * max(n, 1) + cooldowns[tasks[0]]\n",
    "                except KeyError:\n",
    "                    count += len(tasks) * max(n, 1)\n",
    "                break\n",
    "            task = tasks.pop(0)\n",
    "            print(task, tasks, count)\n",
    "            if len(tasks) == 0 and cooldowns[task] == 0:\n",
    "                count += 1\n",
    "                break\n",
    "            if task not in cooldowns.keys() or cooldowns[task] == 0:\n",
    "                cooldowns[task] = n + 1\n",
    "            elif len([x for x in cooldowns.keys() if cooldowns[x] > 0]) == len(possible_tasks):\n",
    "                tasks.append(task)\n",
    "            else:\n",
    "                tasks.append(task)\n",
    "                continue\n",
    "            count += 1\n",
    "            for i in cooldowns.keys():\n",
    "                if cooldowns[i] > 0:\n",
    "                    cooldowns[i] -= 1\n",
    "        return count"
   ]
  },
  {
   "cell_type": "code",
   "execution_count": 54,
   "metadata": {},
   "outputs": [
    {
     "name": "stdout",
     "output_type": "stream",
     "text": [
      "A ['A', 'A', 'A', 'A', 'A', 'B', 'C', 'D', 'E', 'F', 'G'] 0\n",
      "A ['A', 'A', 'A', 'A', 'B', 'C', 'D', 'E', 'F', 'G'] 1\n",
      "A ['A', 'A', 'A', 'B', 'C', 'D', 'E', 'F', 'G', 'A'] 1\n",
      "A ['A', 'A', 'B', 'C', 'D', 'E', 'F', 'G', 'A', 'A'] 1\n",
      "A ['A', 'B', 'C', 'D', 'E', 'F', 'G', 'A', 'A', 'A'] 1\n",
      "A ['B', 'C', 'D', 'E', 'F', 'G', 'A', 'A', 'A', 'A'] 1\n",
      "B ['C', 'D', 'E', 'F', 'G', 'A', 'A', 'A', 'A', 'A'] 1\n",
      "C ['D', 'E', 'F', 'G', 'A', 'A', 'A', 'A', 'A'] 2\n",
      "D ['E', 'F', 'G', 'A', 'A', 'A', 'A', 'A'] 3\n",
      "E ['F', 'G', 'A', 'A', 'A', 'A', 'A'] 4\n",
      "F ['G', 'A', 'A', 'A', 'A', 'A'] 5\n",
      "G ['A', 'A', 'A', 'A', 'A'] 6\n",
      "0\n"
     ]
    },
    {
     "data": {
      "text/plain": [
       "17"
      ]
     },
     "execution_count": 54,
     "metadata": {},
     "output_type": "execute_result"
    }
   ],
   "source": [
    "test = [\"A\",\"A\",\"A\",\"A\",\"A\",\"A\",\"B\",\"C\",\"D\",\"E\",\"F\",\"G\"]\n",
    "#est = [\"A\",\"A\",\"A\",\"B\",\"B\",\"B\"]\n",
    "n=2\n",
    "Solution().leastInterval(test,n)"
   ]
  },
  {
   "cell_type": "code",
   "execution_count": null,
   "metadata": {},
   "outputs": [],
   "source": []
  }
 ],
 "metadata": {
  "kernelspec": {
   "display_name": "Python 3",
   "language": "python",
   "name": "python3"
  },
  "language_info": {
   "codemirror_mode": {
    "name": "ipython",
    "version": 3
   },
   "file_extension": ".py",
   "mimetype": "text/x-python",
   "name": "python",
   "nbconvert_exporter": "python",
   "pygments_lexer": "ipython3",
   "version": "3.7.6"
  }
 },
 "nbformat": 4,
 "nbformat_minor": 4
}
