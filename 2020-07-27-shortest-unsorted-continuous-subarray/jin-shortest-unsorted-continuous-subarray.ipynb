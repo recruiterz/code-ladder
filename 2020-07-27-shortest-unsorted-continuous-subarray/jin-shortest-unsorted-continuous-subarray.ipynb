{
 "cells": [
  {
   "cell_type": "code",
   "execution_count": 2,
   "metadata": {},
   "outputs": [],
   "source": [
    "class Solution:\n",
    "    def findUnsortedSubarray(self, nums):\n",
    "        sorted_nums = sorted(nums)\n",
    "        start = len(nums)\n",
    "        end = 0\n",
    "        for i, x in enumerate(sorted_nums):\n",
    "            if nums[i] != x:\n",
    "                start = min(start, i)\n",
    "                end = max(end, i)\n",
    "            print(start, end, x, nums[i])\n",
    "        res = end - start + 1\n",
    "        if res < 0:\n",
    "            res = 0\n",
    "        return res"
   ]
  },
  {
   "cell_type": "code",
   "execution_count": 3,
   "metadata": {},
   "outputs": [
    {
     "name": "stdout",
     "output_type": "stream",
     "text": [
      "7 0 2 2\n",
      "1 1 4 6\n",
      "1 2 6 4\n",
      "1 2 8 8\n",
      "1 4 9 10\n",
      "1 5 10 9\n",
      "1 5 15 15\n"
     ]
    },
    {
     "data": {
      "text/plain": [
       "5"
      ]
     },
     "execution_count": 3,
     "metadata": {},
     "output_type": "execute_result"
    }
   ],
   "source": [
    "Solution().findUnsortedSubarray([2,6,4,8,10,9,15])"
   ]
  },
  {
   "cell_type": "code",
   "execution_count": null,
   "metadata": {},
   "outputs": [],
   "source": []
  }
 ],
 "metadata": {
  "kernelspec": {
   "display_name": "Python 3",
   "language": "python",
   "name": "python3"
  },
  "language_info": {
   "codemirror_mode": {
    "name": "ipython",
    "version": 3
   },
   "file_extension": ".py",
   "mimetype": "text/x-python",
   "name": "python",
   "nbconvert_exporter": "python",
   "pygments_lexer": "ipython3",
   "version": "3.7.6"
  }
 },
 "nbformat": 4,
 "nbformat_minor": 4
}
