{
 "cells": [
  {
   "cell_type": "markdown",
   "metadata": {},
   "source": [
    "Test Code"
   ]
  },
  {
   "cell_type": "code",
   "execution_count": 20,
   "metadata": {},
   "outputs": [],
   "source": [
    "T1 = [2,1,5,3,4]\n",
    "T2 = [2,5,1,3,4]\n",
    "T3 = [1,2,5,3,7,8,6,4]"
   ]
  },
  {
   "cell_type": "code",
   "execution_count": null,
   "metadata": {},
   "outputs": [],
   "source": [
    "1,2,5,3,7,8,6,4\n",
    "1,2,3,5,7,8,6,4\n",
    "1,2,3,5,7,8,4,6\n",
    "1,2,3,5,7,4,8,6\n",
    "1,2,3,5,4,7,8,6\n",
    "1,2,3,4,5,7,8,6\n",
    "1,2,3,4,5,7,6,8\n",
    "1,2,3,4,5,6,7,8"
   ]
  },
  {
   "cell_type": "code",
   "execution_count": 136,
   "metadata": {},
   "outputs": [],
   "source": [
    "def minimumBribes(q):\n",
    "    bribes = 0\n",
    "    q = [x-1 for x in q]\n",
    "    for current, initial in enumerate(q):\n",
    "        upward_movement = initial - current\n",
    "        #bribed more than 2 times\n",
    "        if upward_movement > 2:\n",
    "            return \"Too chaotic\"\n",
    "        for i in range(max(initial-2, 0), current):\n",
    "#         for i in range(0, current):\n",
    "            if q[i] > initial:\n",
    "                bribes += 1\n",
    "    return bribes"
   ]
  },
  {
   "cell_type": "code",
   "execution_count": 137,
   "metadata": {},
   "outputs": [
    {
     "data": {
      "text/plain": [
       "7"
      ]
     },
     "execution_count": 137,
     "metadata": {},
     "output_type": "execute_result"
    }
   ],
   "source": [
    "minimumBribes(T3)"
   ]
  },
  {
   "cell_type": "code",
   "execution_count": null,
   "metadata": {},
   "outputs": [],
   "source": []
  }
 ],
 "metadata": {
  "kernelspec": {
   "display_name": "Python 3",
   "language": "python",
   "name": "python3"
  },
  "language_info": {
   "codemirror_mode": {
    "name": "ipython",
    "version": 3
   },
   "file_extension": ".py",
   "mimetype": "text/x-python",
   "name": "python",
   "nbconvert_exporter": "python",
   "pygments_lexer": "ipython3",
   "version": "3.7.4"
  }
 },
 "nbformat": 4,
 "nbformat_minor": 4
}
