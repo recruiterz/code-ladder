{
 "cells": [
  {
   "cell_type": "code",
   "execution_count": 42,
   "metadata": {},
   "outputs": [],
   "source": [
    "class Solution:\n",
    "    def rob(self, nums):\n",
    "        if len(nums) < 1:\n",
    "            return 0\n",
    "        d_0 = nums[0]\n",
    "        if len(nums) == 1:\n",
    "            return d_0\n",
    "        d_1 = max(nums[0], nums[1])\n",
    "        if len(nums) == 2:\n",
    "            return d_1\n",
    "        return max(self.calc_rob(nums[:-1]), self.calc_rob(nums[1:]))\n",
    "\n",
    "    def calc_rob(self, nums):\n",
    "\n",
    "        d = [d_0, d_1]\n",
    "        \n",
    "        for i in range(2, len(nums)):\n",
    "            d.append(max(d[i-1], d[i-2]+nums[i]))\n",
    "\n",
    "        return max(d[-2], d[-1])"
   ]
  },
  {
   "cell_type": "code",
   "execution_count": 43,
   "metadata": {},
   "outputs": [
    {
     "data": {
      "text/plain": [
       "3"
      ]
     },
     "execution_count": 43,
     "metadata": {},
     "output_type": "execute_result"
    }
   ],
   "source": [
    "Solution().rob(\n",
    "[2,1,1,2])"
   ]
  },
  {
   "cell_type": "code",
   "execution_count": null,
   "metadata": {},
   "outputs": [],
   "source": []
  }
 ],
 "metadata": {
  "kernelspec": {
   "display_name": "Python 3",
   "language": "python",
   "name": "python3"
  },
  "language_info": {
   "codemirror_mode": {
    "name": "ipython",
    "version": 3
   },
   "file_extension": ".py",
   "mimetype": "text/x-python",
   "name": "python",
   "nbconvert_exporter": "python",
   "pygments_lexer": "ipython3",
   "version": "3.7.6"
  }
 },
 "nbformat": 4,
 "nbformat_minor": 4
}
