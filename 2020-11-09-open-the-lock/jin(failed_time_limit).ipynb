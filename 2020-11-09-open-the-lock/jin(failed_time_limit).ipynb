{
 "cells": [
  {
   "cell_type": "code",
   "execution_count": 105,
   "metadata": {},
   "outputs": [],
   "source": [
    "class Solution:\n",
    "    def openLock(self, deadends, target):\n",
    "        queue = [('0000', 0)]\n",
    "        visited = set()\n",
    "        while len(queue) > 0:\n",
    "            curr, moves = queue.pop(0)\n",
    "            if curr == target:\n",
    "                return moves\n",
    "            if curr in deadends:\n",
    "                continue\n",
    "            visited.add(curr)\n",
    "            queue += [(x, moves+1) for x in self.getAdjacent(curr) if x not in visited]\n",
    "        return -1\n",
    "        \n",
    "    def getUpperAdjacent(self, number):\n",
    "        res = []\n",
    "        number_list = [int(x) for x in list(number)]\n",
    "        for i in range(0,4):\n",
    "            created_number = number_list.copy()\n",
    "            created_number[i] += 1\n",
    "            if created_number[i] == 10:\n",
    "                created_number[i] = 0\n",
    "            res.append(''.join([str(x) for x in created_number]))\n",
    "            created_number = number_list.copy()\n",
    "            created_number[i] -= 1\n",
    "            if created_number[i] == -1:\n",
    "                created_number[i] = 9\n",
    "            res.append(''.join([str(x) for x in created_number]))\n",
    "        return res"
   ]
  },
  {
   "cell_type": "code",
   "execution_count": 96,
   "metadata": {},
   "outputs": [
    {
     "data": {
      "text/plain": [
       "['2009', '0009', '1109', '1909', '1019', '1099', '1000', '1008']"
      ]
     },
     "execution_count": 96,
     "metadata": {},
     "output_type": "execute_result"
    }
   ],
   "source": [
    "Solution().getAdjacent('1009')"
   ]
  },
  {
   "cell_type": "code",
   "execution_count": 106,
   "metadata": {},
   "outputs": [
    {
     "data": {
      "text/plain": [
       "6"
      ]
     },
     "execution_count": 106,
     "metadata": {},
     "output_type": "execute_result"
    }
   ],
   "source": [
    "Solution().openLock([\"0201\",\"0101\",\"0102\",\"1212\",\"2002\"], \"0202\")"
   ]
  },
  {
   "cell_type": "code",
   "execution_count": null,
   "metadata": {},
   "outputs": [],
   "source": []
  }
 ],
 "metadata": {
  "kernelspec": {
   "display_name": "Python 3",
   "language": "python",
   "name": "python3"
  },
  "language_info": {
   "codemirror_mode": {
    "name": "ipython",
    "version": 3
   },
   "file_extension": ".py",
   "mimetype": "text/x-python",
   "name": "python",
   "nbconvert_exporter": "python",
   "pygments_lexer": "ipython3",
   "version": "3.7.6"
  }
 },
 "nbformat": 4,
 "nbformat_minor": 4
}
