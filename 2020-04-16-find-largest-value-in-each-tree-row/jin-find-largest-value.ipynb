{
 "cells": [
  {
   "cell_type": "code",
   "execution_count": 2,
   "metadata": {},
   "outputs": [],
   "source": [
    "class Solution:\n",
    "    def largestValues(self, root):\n",
    "        if root is None:\n",
    "            return []\n",
    "        root.depth = 0\n",
    "        queue = [root]\n",
    "        levels = {}\n",
    "        while len(queue) > 0:\n",
    "            current = queue.pop(0)\n",
    "            if current.left:\n",
    "                current.left.depth = current.depth + 1\n",
    "                queue.append(current.left)\n",
    "            if current.right:\n",
    "                current.right.depth = current.depth + 1\n",
    "                queue.append(current.right)\n",
    "            try:\n",
    "                levels[current.depth] = max(current.val, levels[current.depth])\n",
    "            except KeyError:\n",
    "                levels[current.depth] = current.val\n",
    "        return levels.values()"
   ]
  },
  {
   "cell_type": "code",
   "execution_count": null,
   "metadata": {},
   "outputs": [],
   "source": []
  }
 ],
 "metadata": {
  "kernelspec": {
   "display_name": "Python 3",
   "language": "python",
   "name": "python3"
  },
  "language_info": {
   "codemirror_mode": {
    "name": "ipython",
    "version": 3
   },
   "file_extension": ".py",
   "mimetype": "text/x-python",
   "name": "python",
   "nbconvert_exporter": "python",
   "pygments_lexer": "ipython3",
   "version": "3.7.4"
  }
 },
 "nbformat": 4,
 "nbformat_minor": 4
}
