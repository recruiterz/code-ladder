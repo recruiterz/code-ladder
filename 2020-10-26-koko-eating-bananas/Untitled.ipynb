{
 "cells": [
  {
   "cell_type": "code",
   "execution_count": 79,
   "metadata": {},
   "outputs": [],
   "source": [
    "class Solution:\n",
    "\n",
    "    def eatBanana(self, pile, speed):\n",
    "        if pile < speed:\n",
    "            return 1\n",
    "        if pile % speed == 0:\n",
    "            return int(pile/speed)\n",
    "        return int(pile / speed)+1\n",
    "\n",
    "    def canEatBanana(self, piles, H, speed):\n",
    "        for pile in piles:\n",
    "            H -= self.eatBanana(pile, speed)\n",
    "            if H < 0:\n",
    "                return False\n",
    "        return True\n",
    "\n",
    "    #Implemented binary search\n",
    "    def minEatingSpeed(self, piles, H):\n",
    "        low, high = 1, max(piles)\n",
    "        while low < high:\n",
    "            mid = (low + high) // 2\n",
    "            if self.canEatBanana(piles, H, mid):\n",
    "                high = mid\n",
    "            else:\n",
    "                low = mid + 1\n",
    "        return low\n",
    "            \n",
    "        \n",
    "    #Time limit exceeded (working though)\n",
    "#     def minEatingSpeed(self, piles, H):\n",
    "#         for speed in range(1, max(piles)+1):\n",
    "#             if self.canEatBanana(piles, H, speed):\n",
    "#                 return speed\n"
   ]
  },
  {
   "cell_type": "code",
   "execution_count": 77,
   "metadata": {},
   "outputs": [
    {
     "data": {
      "text/plain": [
       "30"
      ]
     },
     "execution_count": 77,
     "metadata": {},
     "output_type": "execute_result"
    }
   ],
   "source": [
    "Solution().minEatingSpeed([30,11,23,4,20],5)"
   ]
  },
  {
   "cell_type": "code",
   "execution_count": 78,
   "metadata": {},
   "outputs": [
    {
     "data": {
      "text/plain": [
       "23"
      ]
     },
     "execution_count": 78,
     "metadata": {},
     "output_type": "execute_result"
    }
   ],
   "source": [
    "Solution().minEatingSpeed([30,11,23,4,20],6)"
   ]
  },
  {
   "cell_type": "code",
   "execution_count": 62,
   "metadata": {},
   "outputs": [],
   "source": [
    "piles = [30,11,23,4,20]\n",
    "H = 5"
   ]
  },
  {
   "cell_type": "code",
   "execution_count": null,
   "metadata": {},
   "outputs": [],
   "source": []
  }
 ],
 "metadata": {
  "kernelspec": {
   "display_name": "Python 3",
   "language": "python",
   "name": "python3"
  },
  "language_info": {
   "codemirror_mode": {
    "name": "ipython",
    "version": 3
   },
   "file_extension": ".py",
   "mimetype": "text/x-python",
   "name": "python",
   "nbconvert_exporter": "python",
   "pygments_lexer": "ipython3",
   "version": "3.7.6"
  }
 },
 "nbformat": 4,
 "nbformat_minor": 4
}
