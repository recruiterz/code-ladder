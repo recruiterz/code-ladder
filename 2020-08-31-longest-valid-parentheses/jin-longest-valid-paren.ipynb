{
 "cells": [
  {
   "cell_type": "code",
   "execution_count": 27,
   "metadata": {},
   "outputs": [],
   "source": [
    "class Solution:\n",
    "    def longestValidParentheses(self, s):\n",
    "        result = 0\n",
    "        for start in range(0, len(s)):\n",
    "            for end in range(start+1, len(s)+1):\n",
    "                substr = s[start:end]\n",
    "                if self.check_valid(substr):\n",
    "                    result = max(result, len(substr))\n",
    "                \n",
    "        return result\n",
    "\n",
    "    def check_valid(self, s):\n",
    "        stack = []\n",
    "        for i in s:\n",
    "            if i == \"(\":\n",
    "                stack.append(\"(\")\n",
    "            try:\n",
    "                if i == \")\":\n",
    "                    stack.pop()\n",
    "            except IndexError:\n",
    "                return False\n",
    "        if len(stack) != 0:\n",
    "            return False\n",
    "        return True\n",
    "            "
   ]
  },
  {
   "cell_type": "code",
   "execution_count": 29,
   "metadata": {},
   "outputs": [
    {
     "data": {
      "text/plain": [
       "4"
      ]
     },
     "execution_count": 29,
     "metadata": {},
     "output_type": "execute_result"
    }
   ],
   "source": [
    "Solution().longestValidParentheses(\"(()()\")"
   ]
  },
  {
   "cell_type": "code",
   "execution_count": 13,
   "metadata": {},
   "outputs": [
    {
     "data": {
      "text/plain": [
       "False"
      ]
     },
     "execution_count": 13,
     "metadata": {},
     "output_type": "execute_result"
    }
   ],
   "source": [
    "Solution().check_valid(\"(()\")"
   ]
  },
  {
   "cell_type": "code",
   "execution_count": null,
   "metadata": {},
   "outputs": [],
   "source": []
  },
  {
   "cell_type": "code",
   "execution_count": null,
   "metadata": {},
   "outputs": [],
   "source": []
  }
 ],
 "metadata": {
  "kernelspec": {
   "display_name": "Python 3",
   "language": "python",
   "name": "python3"
  },
  "language_info": {
   "codemirror_mode": {
    "name": "ipython",
    "version": 3
   },
   "file_extension": ".py",
   "mimetype": "text/x-python",
   "name": "python",
   "nbconvert_exporter": "python",
   "pygments_lexer": "ipython3",
   "version": "3.7.6"
  }
 },
 "nbformat": 4,
 "nbformat_minor": 4
}
