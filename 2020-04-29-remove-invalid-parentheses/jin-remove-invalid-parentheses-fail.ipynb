{
 "cells": [
  {
   "cell_type": "code",
   "execution_count": 1,
   "metadata": {},
   "outputs": [],
   "source": [
    "import numpy as np"
   ]
  },
  {
   "cell_type": "code",
   "execution_count": 22,
   "metadata": {},
   "outputs": [],
   "source": [
    "class Solution:\n",
    "class Solution:\n",
    "    # check if a given string is valid\n",
    "    def checkValidity(self, s):\n",
    "        stack = []\n",
    "        for char in s:\n",
    "            if char == \"(\":\n",
    "                stack.append(char)\n",
    "            if char == \")\":\n",
    "                if len(stack) == 0:\n",
    "                    return False\n",
    "                stack.pop()\n",
    "        if len(stack) >= 1:\n",
    "            return False\n",
    "        return True\n",
    "\n",
    "        # check for num match\n",
    "    def getMinChangeNumber(self, s):\n",
    "        opens = [pos for pos, char in enumerate(s) if char == \"(\"]\n",
    "        close = [pos for pos, char in enumerate(s) if char == \")\"]\n",
    "        print(opens), print(close)\n",
    "        return abs(len(opens) - len(close))\n",
    "    \n",
    "    def removeInvalidParentheses(self, s):\n",
    "        # the given string is valid already, return that\n",
    "        min_change = self.getMinChangeNumber(s)\n",
    "        # if no change available / required\n",
    "        if self.checkValidity(s):\n",
    "            return [s]\n",
    "\n",
    "        queue = [s]\n",
    "        while queue:\n",
    "\n",
    "            res = []\n",
    "            \n",
    "            for string in queue:\n",
    "                if self.checkValidity(string):\n",
    "                    res.append(string)\n",
    "\n",
    "            if res:\n",
    "                return list(set(res))\n",
    "\n",
    "            for i in range(len(queue)):\n",
    "                string = queue.pop(0)\n",
    "                for idx in range (len(string)):\n",
    "                    if string[idx] == ')' or string[idx] == '(':\n",
    "                        queue.append(string [0:idx] + string [idx+1:])\n",
    "                                    "
   ]
  },
  {
   "cell_type": "code",
   "execution_count": 24,
   "metadata": {},
   "outputs": [
    {
     "name": "stdout",
     "output_type": "stream",
     "text": [
      "[1, 3]\n",
      "[0, 2]\n"
     ]
    },
    {
     "data": {
      "text/plain": [
       "['()']"
      ]
     },
     "execution_count": 24,
     "metadata": {},
     "output_type": "execute_result"
    }
   ],
   "source": [
    "Solution().removeInvalidParentheses(\")()(\")"
   ]
  },
  {
   "cell_type": "code",
   "execution_count": 11,
   "metadata": {},
   "outputs": [],
   "source": [
    "s = '1234'"
   ]
  },
  {
   "cell_type": "code",
   "execution_count": 12,
   "metadata": {},
   "outputs": [],
   "source": [
    "i=1"
   ]
  },
  {
   "cell_type": "code",
   "execution_count": 13,
   "metadata": {},
   "outputs": [
    {
     "data": {
      "text/plain": [
       "'134'"
      ]
     },
     "execution_count": 13,
     "metadata": {},
     "output_type": "execute_result"
    }
   ],
   "source": [
    "s[0 : i] + s[i+1 :]"
   ]
  },
  {
   "cell_type": "code",
   "execution_count": 10,
   "metadata": {},
   "outputs": [
    {
     "data": {
      "text/plain": [
       "0"
      ]
     },
     "execution_count": 10,
     "metadata": {},
     "output_type": "execute_result"
    }
   ],
   "source": [
    "Solution().getMinChangeNumber(\"()(()())\")"
   ]
  }
 ],
 "metadata": {
  "kernelspec": {
   "display_name": "Python 3",
   "language": "python",
   "name": "python3"
  },
  "language_info": {
   "codemirror_mode": {
    "name": "ipython",
    "version": 3
   },
   "file_extension": ".py",
   "mimetype": "text/x-python",
   "name": "python",
   "nbconvert_exporter": "python",
   "pygments_lexer": "ipython3",
   "version": "3.7.4"
  }
 },
 "nbformat": 4,
 "nbformat_minor": 4
}
