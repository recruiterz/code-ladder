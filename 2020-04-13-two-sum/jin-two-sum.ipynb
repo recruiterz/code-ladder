{
 "cells": [
  {
   "cell_type": "code",
   "execution_count": 122,
   "metadata": {},
   "outputs": [],
   "source": [
    "nums = [2, 7, 11, 15]\n",
    "target = 9"
   ]
  },
  {
   "cell_type": "code",
   "execution_count": 123,
   "metadata": {},
   "outputs": [],
   "source": [
    "nums = [3,2,4]\n",
    "target = 6"
   ]
  },
  {
   "cell_type": "code",
   "execution_count": 124,
   "metadata": {},
   "outputs": [],
   "source": [
    "nums = [0,4,3,0]\n",
    "target = 0"
   ]
  },
  {
   "cell_type": "code",
   "execution_count": 125,
   "metadata": {},
   "outputs": [],
   "source": [
    "class Solution:\n",
    "    def twoSum(self, nums, target):\n",
    "        ht = {}\n",
    "        for idx, num  in enumerate(nums):\n",
    "            remain = target - num\n",
    "            if num in ht.keys():\n",
    "                return [ht[num], idx]\n",
    "            if remain not in ht.keys():\n",
    "                ht[remain] = idx "
   ]
  },
  {
   "cell_type": "code",
   "execution_count": 126,
   "metadata": {},
   "outputs": [
    {
     "data": {
      "text/plain": [
       "[0, 3]"
      ]
     },
     "execution_count": 126,
     "metadata": {},
     "output_type": "execute_result"
    }
   ],
   "source": [
    "Solution().twoSum(nums, target)"
   ]
  },
  {
   "cell_type": "code",
   "execution_count": null,
   "metadata": {},
   "outputs": [],
   "source": []
  },
  {
   "cell_type": "code",
   "execution_count": 69,
   "metadata": {},
   "outputs": [],
   "source": [
    "class Solution:\n",
    "    def twoSum(self, nums, target):\n",
    "        if target == 0:\n",
    "            res = []\n",
    "            for idx, num in enumerate(nums):\n",
    "                if num == 0:\n",
    "                    res.append(idx)\n",
    "            return res\n",
    "        #nums cannot be larger than target\n",
    "        nums = [x for x in nums if x < target]\n",
    "        for idx1, num1  in enumerate(nums):\n",
    "            print(nums[idx1+1:])\n",
    "            for idx2, num2 in enumerate(nums[idx1+1:]):\n",
    "                print(num1, num2)\n",
    "                if num1 + num2 == target:\n",
    "                    return [idx1, idx2+(idx1+1)]"
   ]
  }
 ],
 "metadata": {
  "kernelspec": {
   "display_name": "Python 3",
   "language": "python",
   "name": "python3"
  },
  "language_info": {
   "codemirror_mode": {
    "name": "ipython",
    "version": 3
   },
   "file_extension": ".py",
   "mimetype": "text/x-python",
   "name": "python",
   "nbconvert_exporter": "python",
   "pygments_lexer": "ipython3",
   "version": "3.7.6"
  }
 },
 "nbformat": 4,
 "nbformat_minor": 4
}
