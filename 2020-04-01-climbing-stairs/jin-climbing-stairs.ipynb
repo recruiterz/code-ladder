{
 "cells": [
  {
   "cell_type": "code",
   "execution_count": 10,
   "metadata": {},
   "outputs": [],
   "source": [
    "class Solution:\n",
    "    def climbStairs(self, n: int) -> int:\n",
    "        d_0 = 1\n",
    "        d_1 = 2\n",
    "        d_2 = 3\n",
    "        \n",
    "        if n < 1:\n",
    "            return 0\n",
    "        if n == 1:\n",
    "            return d_0\n",
    "        if n == 2:\n",
    "            return d_1\n",
    "        if n == 3:\n",
    "            return d_2\n",
    "\n",
    "        d = [d_0, d_1, d_2]\n",
    "        \n",
    "        for i in range(3, n):\n",
    "            d.append(d[i-1]+d[i-2])\n",
    "        \n",
    "        return d[-1]"
   ]
  },
  {
   "cell_type": "code",
   "execution_count": 11,
   "metadata": {},
   "outputs": [
    {
     "data": {
      "text/plain": [
       "3"
      ]
     },
     "execution_count": 11,
     "metadata": {},
     "output_type": "execute_result"
    }
   ],
   "source": [
    "Solution().climbStairs(3)"
   ]
  }
 ],
 "metadata": {
  "kernelspec": {
   "display_name": "Python 3",
   "language": "python",
   "name": "python3"
  },
  "language_info": {
   "codemirror_mode": {
    "name": "ipython",
    "version": 3
   },
   "file_extension": ".py",
   "mimetype": "text/x-python",
   "name": "python",
   "nbconvert_exporter": "python",
   "pygments_lexer": "ipython3",
   "version": "3.7.6"
  }
 },
 "nbformat": 4,
 "nbformat_minor": 4
}
