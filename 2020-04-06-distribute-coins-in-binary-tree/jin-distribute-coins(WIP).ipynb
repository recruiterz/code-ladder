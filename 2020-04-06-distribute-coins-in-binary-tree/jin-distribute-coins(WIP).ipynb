{
 "cells": [
  {
   "cell_type": "code",
   "execution_count": null,
   "metadata": {},
   "outputs": [],
   "source": [
    "class Solution:\n",
    "    def distributeCoins(self, root: TreeNode) -> int:\n",
    "        num = 0\n",
    "        stack = []\n",
    "        visited = {}\n",
    "        stack.append(root)\n",
    "        remain = 0\n",
    "        while len(stack) > 0:\n",
    "            node = stack.pop()\n",
    "            if node not in visited:\n",
    "                visited[node] = node.val\n",
    "                stack.append(node)\n",
    "                if node.left is not None:\n",
    "                    stack.append(node.left)\n",
    "                if node.right is not None:\n",
    "                    stack.append(node.right)\n",
    "            else:\n",
    "                if node.left:\n",
    "                    left = visited[node.left]\n",
    "                else:\n",
    "                    left = 0\n",
    "                if node.right:\n",
    "                    right = visited[node.right]\n",
    "                else:\n",
    "                    right = 0\n",
    "                num += abs(left) + abs(right)\n",
    "                visited[node] += left+right-1\n",
    "        return num"
   ]
  }
 ],
 "metadata": {
  "kernelspec": {
   "display_name": "Python 3",
   "language": "python",
   "name": "python3"
  },
  "language_info": {
   "codemirror_mode": {
    "name": "ipython",
    "version": 3
   },
   "file_extension": ".py",
   "mimetype": "text/x-python",
   "name": "python",
   "nbconvert_exporter": "python",
   "pygments_lexer": "ipython3",
   "version": "3.7.6"
  }
 },
 "nbformat": 4,
 "nbformat_minor": 4
}
