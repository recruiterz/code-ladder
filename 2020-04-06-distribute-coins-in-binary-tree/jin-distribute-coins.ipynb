{
 "cells": [
  {
   "cell_type": "code",
   "execution_count": null,
   "metadata": {},
   "outputs": [],
   "source": [
    "# Definition for a binary tree node.\n",
    "# class TreeNode:\n",
    "#     def __init__(self, x):\n",
    "#         self.val = x\n",
    "#         self.left = None\n",
    "#         self.right = None\n",
    "\n",
    "class Solution:\n",
    "    def distributeCoins(self, root: TreeNode) -> int:\n",
    "        nums = 0\n",
    "        stack = []\n",
    "        visited = []\n",
    "        stack.append(root)\n",
    "        while len(stack) > 0:\n",
    "            node = stack.pop()\n",
    "            if node not in visited:\n",
    "                stack.append(node)\n",
    "                visited.append(node)\n",
    "                if node.left is not None:\n",
    "                    stack.append(node.left)\n",
    "                if node.right is not None:\n",
    "                    stack.append(node.right)\n",
    "            # 이부분이 주요 문제, 들어가서 reconstruction 해야함\n",
    "            else:\n",
    "                if node.left is not None:\n",
    "                    left = node.left.val\n",
    "                else:\n",
    "                    left = 0\n",
    "                if node.right is not None:\n",
    "                    right = node.right.val\n",
    "                else:\n",
    "                    right = 0\n",
    "                # Key 움직임 수 Tracker\n",
    "                nums += abs(left) + abs(right)\n",
    "                node.val += left+right-1\n",
    "        return nums"
   ]
  }
 ],
 "metadata": {
  "kernelspec": {
   "display_name": "Python 3",
   "language": "python",
   "name": "python3"
  },
  "language_info": {
   "codemirror_mode": {
    "name": "ipython",
    "version": 3
   },
   "file_extension": ".py",
   "mimetype": "text/x-python",
   "name": "python",
   "nbconvert_exporter": "python",
   "pygments_lexer": "ipython3",
   "version": "3.7.4"
  }
 },
 "nbformat": 4,
 "nbformat_minor": 4
}
