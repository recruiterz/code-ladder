{
 "cells": [
  {
   "cell_type": "code",
   "execution_count": 32,
   "metadata": {},
   "outputs": [],
   "source": [
    "class Solution:\n",
    "    def rob(self, nums):\n",
    "        if len(nums) < 1:\n",
    "            return 0\n",
    "        \n",
    "        d_0 = nums[0]\n",
    "        \n",
    "        if len(nums) == 1:\n",
    "            return d_0\n",
    "        d_1 = max(nums[0], nums[1])\n",
    "        \n",
    "        if len(nums) == 2:\n",
    "            return d_1\n",
    "        \n",
    "        for i in range(2, len(nums)):\n",
    "            d_i = max(d_1, d_0 + nums[i])\n",
    "            d_0 = d_1\n",
    "            d_1 = d_i\n",
    "            \n",
    "#            d.append(max(d[i-1], d[i-2]+nums[i]))\n",
    "\n",
    "        return d_i"
   ]
  },
  {
   "cell_type": "code",
   "execution_count": null,
   "metadata": {},
   "outputs": [],
   "source": [
    "class Solution:\n",
    "    def rob(self, nums):\n",
    "        if len(nums) < 1:\n",
    "            return 0\n",
    "        d_0 = nums[0]\n",
    "        if len(nums) == 1:\n",
    "            return d_0\n",
    "        d_1 = max(nums[0], nums[1])\n",
    "        if len(nums) == 2:\n",
    "            return d_1\n",
    "\n",
    "        d = [d_0, d_1]\n",
    "        \n",
    "        for i in range(2, len(nums)):\n",
    "            d.append(max(d[i-1], d[i-2]+nums[i]))\n",
    "\n",
    "        return max(d[-2], d[-1])"
   ]
  },
  {
   "cell_type": "code",
   "execution_count": 33,
   "metadata": {},
   "outputs": [
    {
     "data": {
      "text/plain": [
       "12"
      ]
     },
     "execution_count": 33,
     "metadata": {},
     "output_type": "execute_result"
    }
   ],
   "source": [
    "Solution().rob([2,7,9,3,1])"
   ]
  },
  {
   "cell_type": "code",
   "execution_count": null,
   "metadata": {},
   "outputs": [],
   "source": []
  }
 ],
 "metadata": {
  "kernelspec": {
   "display_name": "Python 3",
   "language": "python",
   "name": "python3"
  },
  "language_info": {
   "codemirror_mode": {
    "name": "ipython",
    "version": 3
   },
   "file_extension": ".py",
   "mimetype": "text/x-python",
   "name": "python",
   "nbconvert_exporter": "python",
   "pygments_lexer": "ipython3",
   "version": "3.7.6"
  }
 },
 "nbformat": 4,
 "nbformat_minor": 4
}
